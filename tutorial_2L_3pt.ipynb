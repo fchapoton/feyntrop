{
 "cells": [
  {
   "cell_type": "markdown",
   "id": "115a81c2",
   "metadata": {},
   "source": [
    "# `feyntrop` tutorial: A 2-loop 3-point Feynman graph"
   ]
  },
  {
   "cell_type": "markdown",
   "id": "daf0d521",
   "metadata": {},
   "source": [
    "The first step is to import the `feyntrop` module. \n",
    "Assuming `feyntrop.so` and `py_feyntrop.py` are in the working directory, we can run:"
   ]
  },
  {
   "cell_type": "code",
   "execution_count": 1,
   "id": "0db93a2a",
   "metadata": {},
   "outputs": [],
   "source": [
    "from py_feyntrop import *"
   ]
  },
  {
   "cell_type": "markdown",
   "id": "77a26a21",
   "metadata": {},
   "source": [
    "## The diagram\n",
    "* We specify the Feynman diagram via a list of weighted edges with associated masses.\n",
    "* Each item of the list is given in the format $((u,w),\\nu, m^2)$, where $u$ and $w$ are the vertices connected by the edge, $\\nu$ is the edge weight, and $m^2$ is the squared mass. \n",
    "* We use 0-indexing. So, the vertices are numbered $0,1,2,\\ldots$.\n",
    "* External vertices must come first, so $V_\\text{ext} = \\{0,1,2\\}$ label external partcles, and $V_\\text{int} = \\{3\\}$.\n",
    "\n",
    "The diagram is then given as an edge list:"
   ]
  },
  {
   "cell_type": "code",
   "execution_count": 2,
   "id": "2498c296",
   "metadata": {},
   "outputs": [],
   "source": [
    "edges = [((0,1), 1, 'mm'), ((1,3), 1, 'mm'), ((3,2), 1, 'mm'), ((2,0), 1, 'mm'), ((0,3), 1, 'mm')]"
   ]
  },
  {
   "cell_type": "markdown",
   "id": "68c2caba",
   "metadata": {},
   "source": [
    "## Kinematics\n",
    "* Next we specify momentum variables.\n",
    "* We must provide replacement rules for all scalar products $p_i \\cdot p_j \\, , \\, 0 \\leq i \\leq j \\leq |V_\\text{ext}|-2$. \n",
    "* In this case $|V_\\text{ext}| = 3$, so we have $p_0^2, \\, p_1^2$ and $p_0 \\cdot p_1$.\n",
    "* The rules are given by tuples `(sp[i,j], var_str)`, where `sp` stands for 'scalar product' and `var_str` is some string of variables or a number. \n",
    "\n",
    "In this example let us immediately set $p_0^2 = p_1^2 = 0$, and then define the single momentum variable $p_2^2$ in terms of the scalar product $p_0 \\cdot p_1$ by $p_2^2 = (-p_0 - p_1)^2 = 2 \\cdot p_0 \\cdot p_1$."
   ]
  },
  {
   "cell_type": "code",
   "execution_count": 3,
   "id": "68f67d45",
   "metadata": {},
   "outputs": [],
   "source": [
    "replacement_rules = [(sp[0,0], '0'), (sp[1,1], '0'), (sp[0,1], 'pp2/2')]"
   ]
  },
  {
   "cell_type": "markdown",
   "id": "4284c344",
   "metadata": {},
   "source": [
    "* We have two symbolic variables in `edges` and `replacement_rules`, namely `mm` and `pp2`, which must be given numerical values.\n",
    "\n",
    "We choose $m^2 = 0.2$ and $p_2^2 = 1$:"
   ]
  },
  {
   "cell_type": "code",
   "execution_count": 4,
   "id": "950c6101",
   "metadata": {},
   "outputs": [],
   "source": [
    "phase_space_point = [('mm', 0.2), ('pp2', 1)]"
   ]
  },
  {
   "cell_type": "markdown",
   "id": "9b23bbac",
   "metadata": {},
   "source": [
    "One can inspect the $V \\times V$ dimensional scalar product matrix $\\mathcal{P}^{u,v} = p_u \\cdot p_v$ (where $V = |V_\\text{ext}| + |V_\\text{int}|$) and the list of squared edge masses as follows:"
   ]
  },
  {
   "cell_type": "code",
   "execution_count": 5,
   "id": "0b4cd246",
   "metadata": {},
   "outputs": [
    {
     "name": "stdout",
     "output_type": "stream",
     "text": [
      "[[0, 0.500000000000000, -0.500000000000000, 0], [0.500000000000000, 0, -0.500000000000000, 0], [-0.500000000000000, -0.500000000000000, 1.00000000000000, 0], [0, 0, 0, 0]]\n",
      "[0.2, 0.2, 0.2, 0.2, 0.2]\n"
     ]
    }
   ],
   "source": [
    "P_uv, m_sqr_list = prepare_kinematic_data(edges, replacement_rules, phase_space_point)\n",
    "print(P_uv)\n",
    "print(m_sqr_list)"
   ]
  },
  {
   "cell_type": "markdown",
   "id": "9756b5df",
   "metadata": {},
   "source": [
    "## Additional settings\n",
    "* `D0` is the integer part of the spacetime dimension $D = D_0 - 2\\epsilon$.\n",
    "* We expand up to but not including `eps_order`.\n",
    "* `Lambda` denotes the deformation parameter $\\lambda$.\n",
    "* `N` is the number of Monte Carlo sampling points."
   ]
  },
  {
   "cell_type": "code",
   "execution_count": 6,
   "id": "bcf5d07e",
   "metadata": {},
   "outputs": [],
   "source": [
    "D0 = 2\n",
    "eps_order = 5\n",
    "Lambda = 7.6\n",
    "N = int(1e7)"
   ]
  },
  {
   "cell_type": "markdown",
   "id": "dc739d6d",
   "metadata": {},
   "source": [
    "## Tropical integration\n",
    "* `trop_res` is the value of the Feynman integral *without* any prefactor.\n",
    "* `Itr` is the normalization factor in the tropical measure."
   ]
  },
  {
   "cell_type": "code",
   "execution_count": 7,
   "id": "0e9a502f",
   "metadata": {},
   "outputs": [
    {
     "name": "stdout",
     "output_type": "stream",
     "text": [
      "Prefactor: gamma(2*eps + 3).\n",
      "(Effective) kinematic regime: Minkowski (generic)\n",
      "Generalized permutahedron property: fulfilled.\n",
      "Analytic continuation: activated. Lambda = 7.6\n",
      "Started integrating using 8 threads and N = 1e+07 points.\n",
      "Finished in 5.83201 seconds = 0.00162 hours.\n",
      "\n",
      "-- eps^0: [-46.57  +/- 0.13]  +  i * [ 87.21  +/- 0.12]\n",
      "-- eps^1: [-274.42 +/- 0.55]  +  i * [111.36  +/- 0.55]\n",
      "-- eps^2: [-435.16 +/- 1.30]  +  i * [-174.27 +/- 1.33]\n",
      "-- eps^3: [-192.05 +/- 2.15]  +  i * [-494.65 +/- 2.14]\n",
      "-- eps^4: [218.87  +/- 2.69]  +  i * [-432.23 +/- 2.67]\n"
     ]
    }
   ],
   "source": [
    "trop_res, Itr = tropical_integration(N, D0, Lambda, eps_order, edges, replacement_rules, phase_space_point)"
   ]
  },
  {
   "cell_type": "markdown",
   "id": "feb90294",
   "metadata": {},
   "source": [
    "This yields the $\\epsilon$-expansion *with* the prefactor $\\Gamma(\\omega)/\\Gamma(\\nu_1) \\cdots \\Gamma(\\nu_E) = \\Gamma(2\\epsilon+3)$ included, where $\\omega$ is the superficial degree of divergence and $E$ is the number of edges."
   ]
  },
  {
   "cell_type": "code",
   "execution_count": 8,
   "id": "45fd4a9b",
   "metadata": {},
   "outputs": [
    {
     "name": "stdout",
     "output_type": "stream",
     "text": [
      "174.4129387*I - 93.13287765 + eps*(-720.7142072 + 544.6098867*I) + eps**2*(-2115.404931 + 497.3087663*I) + eps**3*(-3572.746352 - 676.1642402*I) + eps**4*(-3874.524586 - 2725.868268*I) + O(eps**5)\n"
     ]
    }
   ],
   "source": [
    "expansion = eps_expansion(trop_res, edges, D0)\n",
    "print(expansion)"
   ]
  }
 ],
 "metadata": {
  "kernelspec": {
   "display_name": "Python 3 (ipykernel)",
   "language": "python",
   "name": "python3"
  },
  "language_info": {
   "codemirror_mode": {
    "name": "ipython",
    "version": 3
   },
   "file_extension": ".py",
   "mimetype": "text/x-python",
   "name": "python",
   "nbconvert_exporter": "python",
   "pygments_lexer": "ipython3",
   "version": "3.10.6"
  }
 },
 "nbformat": 4,
 "nbformat_minor": 5
}
