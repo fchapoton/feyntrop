{
 "cells": [
  {
   "cell_type": "markdown",
   "id": "115a81c2",
   "metadata": {},
   "source": [
    "# `feyntrop` tutorial: A 2-loop 3-point Feynman graph"
   ]
  },
  {
   "cell_type": "markdown",
   "id": "daf0d521",
   "metadata": {},
   "source": [
    "The first step is to import the `feyntrop` module, assuming `feyntrop.so` and `py_feyntrop.py` are in the working directory, we can run:"
   ]
  },
  {
   "cell_type": "code",
   "execution_count": 1,
   "id": "0db93a2a",
   "metadata": {},
   "outputs": [],
   "source": [
    "from py_feyntrop import *"
   ]
  },
  {
   "cell_type": "markdown",
   "id": "77a26a21",
   "metadata": {},
   "source": [
    "## The graph\n",
    "* We specify the Feynman graph via a list of weighted edges and associated masses.\n",
    "* Each item of the list is given in the format $((u,w),\\nu, m^2)$, where $u$ and $w$ are the vertices connected by the edge, $\\nu$ is the edge weight, and $m^2$ is the mass squared. \n",
    "* Mass *variables* should be written as strings, but actual values can also be inserted at this stage (strings or not, i.e. both '1/2' and 1/2 are fine).\n",
    "* We use 0-indexing. So, the vertices are numbered $0,1,2,\\ldots$.\n",
    "* External vertices must come first, so $V_\\text{ext} = \\{0,1,2\\}$ label external partcles, and $V_\\text{int} = \\{3\\}$.\n",
    "\n",
    "The graph is then given as an edge list:"
   ]
  },
  {
   "cell_type": "code",
   "execution_count": 2,
   "id": "2498c296",
   "metadata": {},
   "outputs": [],
   "source": [
    "edges = [((0,1), 1, 'mm'), ((1,3), 1, 'mm'), ((3,2), 1, 'mm'), ((2,0), 1, 'mm'), ((0,3), 1, 'mm')]"
   ]
  },
  {
   "cell_type": "markdown",
   "id": "007acf3d",
   "metadata": {},
   "source": [
    "## Kinematics"
   ]
  },
  {
   "cell_type": "markdown",
   "id": "68c2caba",
   "metadata": {},
   "source": [
    "* Next we provide values for the momentum configuration.\n",
    "* We must provide replacement rules for all scalar products $p_i \\cdot p_j \\, , \\, i \\leq j \\leq |V_\\text{ext}|-2$. In this case $|V_\\text{ext}| = 3$.\n",
    "* The rules are given by tuples `(sp[i,j], var_str)`, where `var_str` is some string of variables or a number (in string format or not, as for the masses above). \n",
    "* For instance, given a massless 4-point diagram one could write `(sp[0,2], (-s-t)/2)`, where $s = 2p_0 \\cdot p_1 \\, , \\, t = 2 p_1 \\cdot p_2$ are Mandelstam variables and momentum conservation dictates that $u = -s-t = 2 p_0 \\cdot p_2$.\n",
    "\n",
    "In this 3-point example we set $p_0^2 = p_1^2 = 0$ already here, and then define the single kinematic variable by $s_{01} = 2 p_0 \\cdot p_1$."
   ]
  },
  {
   "cell_type": "code",
   "execution_count": 3,
   "id": "68f67d45",
   "metadata": {},
   "outputs": [],
   "source": [
    "replacement_rules = [(sp[0,0], '0'), (sp[1,1], '0'), (sp[0,1], 's01/2')]"
   ]
  },
  {
   "cell_type": "markdown",
   "id": "4284c344",
   "metadata": {},
   "source": [
    "* We have two symbolic variables in `graph` and `replacement_rules`, namely `mm` and `s01`, which must be given numerical values.\n",
    "\n",
    "We choose $m^2 = 0.2$ and $s_{01} = 1$:"
   ]
  },
  {
   "cell_type": "code",
   "execution_count": 4,
   "id": "950c6101",
   "metadata": {},
   "outputs": [],
   "source": [
    "phase_space_point = [('mm', 0.2), ('s01', 1)]"
   ]
  },
  {
   "cell_type": "markdown",
   "id": "9756b5df",
   "metadata": {},
   "source": [
    "## Additional settings\n",
    "* `D0` is the integer part of the spacetime dimension $D = D_0 - 2\\epsilon$.\n",
    "* We expand up to but not including `eps_order`.\n",
    "* `Lambda` denotes the deformation parameter $\\lambda$.\n",
    "* `N` is the number of Monte Carlo sampling points."
   ]
  },
  {
   "cell_type": "code",
   "execution_count": 5,
   "id": "bcf5d07e",
   "metadata": {},
   "outputs": [],
   "source": [
    "D0 = 2\n",
    "eps_order = 5\n",
    "Lambda = 7.6\n",
    "N = int(1e7)"
   ]
  },
  {
   "cell_type": "markdown",
   "id": "dc739d6d",
   "metadata": {},
   "source": [
    "## Tropical integration\n",
    "* `trop_res` is the value of the Feynman integral *without* any prefactor.\n",
    "* `Itr` is the normalization factor in the tropical measure."
   ]
  },
  {
   "cell_type": "code",
   "execution_count": 6,
   "id": "0e9a502f",
   "metadata": {},
   "outputs": [
    {
     "name": "stdout",
     "output_type": "stream",
     "text": [
      "Prefactor: gamma(2*eps + 3).\n",
      "Generalized permutahedron property: fulfilled.\n",
      "(Effective) kinematic regime: Minkowski\n",
      "Analytic continuation: activated. Lambda = 7.6\n",
      "Started integrating using 8 threads and N = 1e+07 points.\n",
      "Finished in 5.70203 seconds = 0.0015839 hours.\n",
      "\n",
      "-- eps^0: [-46.56  +/- 0.13]  +  i * [ 87.22  +/- 0.12]\n",
      "-- eps^1: [-274.49 +/- 0.55]  +  i * [111.45  +/- 0.55]\n",
      "-- eps^2: [-435.48 +/- 1.30]  +  i * [-174.26 +/- 1.33]\n",
      "-- eps^3: [-192.42 +/- 2.15]  +  i * [-495.02 +/- 2.15]\n",
      "-- eps^4: [218.91  +/- 2.69]  +  i * [-432.84 +/- 2.67]\n"
     ]
    }
   ],
   "source": [
    "trop_res, Itr = tropical_integration(N, D0, Lambda, eps_order, edges, replacement_rules, phase_space_point)"
   ]
  },
  {
   "cell_type": "markdown",
   "id": "feb90294",
   "metadata": {},
   "source": [
    "* This yields the $\\epsilon$-expansion *with* prefactor $\\frac{\\Gamma(\\omega)}{\\Gamma(\\nu_1) \\cdots \\Gamma(\\nu_E)} = \\Gamma(2\\epsilon+3)$ included, where $\\omega$ is the superficial degree of divergence and $E$ is the number of edges."
   ]
  },
  {
   "cell_type": "code",
   "execution_count": 7,
   "id": "45fd4a9b",
   "metadata": {},
   "outputs": [
    {
     "data": {
      "text/latex": [
       "$\\displaystyle 174.4414847 i - 93.12894659 + eps \\left(-720.8558509 + 544.8448962 i\\right) + eps^{2} \\left(-2116.304712 + 497.7351159 i\\right) + eps^{3} \\left(-3575.012126 - 676.3612018 i\\right) + eps^{4} \\left(-3877.716614 - 2727.941257 i\\right) + O\\left(eps^{5}\\right)$"
      ],
      "text/plain": [
       "174.4414847*I - 93.12894659 + eps*(-720.8558509 + 544.8448962*I) + eps**2*(-2116.304712 + 497.7351159*I) + eps**3*(-3575.012126 - 676.3612018*I) + eps**4*(-3877.716614 - 2727.941257*I) + O(eps**5)"
      ]
     },
     "execution_count": 7,
     "metadata": {},
     "output_type": "execute_result"
    }
   ],
   "source": [
    "eps_expansion(trop_res, edges, D0)"
   ]
  }
 ],
 "metadata": {
  "kernelspec": {
   "display_name": "Python 3 (ipykernel)",
   "language": "python",
   "name": "python3"
  },
  "language_info": {
   "codemirror_mode": {
    "name": "ipython",
    "version": 3
   },
   "file_extension": ".py",
   "mimetype": "text/x-python",
   "name": "python",
   "nbconvert_exporter": "python",
   "pygments_lexer": "ipython3",
   "version": "3.10.6"
  }
 },
 "nbformat": 4,
 "nbformat_minor": 5
}
