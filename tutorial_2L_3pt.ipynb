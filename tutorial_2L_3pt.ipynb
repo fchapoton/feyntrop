{
 "cells": [
  {
   "cell_type": "markdown",
   "id": "115a81c2",
   "metadata": {},
   "source": [
    "# $\\texttt{feyntrop}$ tutorial: A two loop 3-point Feynman graph"
   ]
  },
  {
   "cell_type": "markdown",
   "id": "daf0d521",
   "metadata": {},
   "source": [
    "After $\\texttt{feyntrop}$ has been properly compiled in the working directory (see README.md), we can use it in any python environment. The first step is to import the $\\texttt{feyntrop}$ module, assuming $\\texttt{feyntrop.so}$ and $\\texttt{py}$_$\\texttt{feyntrop.py}$ are in the working directory, we can run:"
   ]
  },
  {
   "cell_type": "code",
   "execution_count": 10,
   "id": "0db93a2a",
   "metadata": {},
   "outputs": [],
   "source": [
    "from py_feyntrop import *"
   ]
  },
  {
   "cell_type": "markdown",
   "id": "77a26a21",
   "metadata": {},
   "source": [
    "## The graph\n",
    "* We specify the Feynman graph via a list of weighted edges.\n",
    "* Each item of the list is given in the format $((u,w),\\nu)$, where $u$ and $w$ are the vertices that the edge connects and $\\nu$ is the associated edge weights.\n",
    "* We use 0-indexing. So, the vertices are numbered $0,1,2,\\ldots$.\n",
    "* External vertices must come first, so $V_\\text{ext} = \\{0,1,2\\}$ label external partcles, and $V_\\text{int} = \\{3\\}$.\n",
    "\n",
    "The graph is then given as an edge list:"
   ]
  },
  {
   "cell_type": "code",
   "execution_count": 11,
   "id": "2498c296",
   "metadata": {},
   "outputs": [],
   "source": [
    "graph = [((0,1), 1), ((1,3), 1), ((3,2), 1), ((2,0), 1), ((0,3), 1)]"
   ]
  },
  {
   "cell_type": "markdown",
   "id": "007acf3d",
   "metadata": {},
   "source": [
    "## Kinematics\n",
    "* For each edge in the list we have to give an associated squared mass.\n",
    "* For simplicity we set $m_e^2 = 0.2$ for all $e$."
   ]
  },
  {
   "cell_type": "code",
   "execution_count": 12,
   "id": "38038f4f",
   "metadata": {},
   "outputs": [],
   "source": [
    "masses_sqr = [0.2] * len(graph)"
   ]
  },
  {
   "cell_type": "markdown",
   "id": "68c2caba",
   "metadata": {},
   "source": [
    "* Next we provide values for the momentum configuration.\n",
    "* The values for squared momenta $p_0^2, \\ldots, p_{|V_\\text{ext}|-2}^2$ are denoted by tuples $(\\texttt{p}$_$\\texttt{sqr}[v], \\text{value})$. In this case $|V_\\text{ext}| = 3$.\n",
    "* The values for Mandelstam variables $s_{ij}=(p_i+p_j)^2$ with $0 \\leq i < j \\leq |V_\\text{ext}|-2$ are written as $(\\texttt{s}[i,j], \\text{value})$."
   ]
  },
  {
   "cell_type": "code",
   "execution_count": 13,
   "id": "68f67d45",
   "metadata": {},
   "outputs": [],
   "source": [
    "momentum_vars = [(p_sqr[0], 0), (p_sqr[1], 0), (s[0,1], 1)]"
   ]
  },
  {
   "cell_type": "markdown",
   "id": "9756b5df",
   "metadata": {},
   "source": [
    "## Additional settings\n",
    "* $\\texttt{D0}$ is the integer part of the spacetime dimension $D = D_0 - 2\\epsilon$.\n",
    "* We expand up to but not including $\\texttt{eps}$_$\\texttt{order}$.\n",
    "* $\\texttt{Lambda}$ denotes the deformation parameter $\\lambda$.\n",
    "* $\\texttt{N}$ is the number of Monte Carlo sampling points."
   ]
  },
  {
   "cell_type": "code",
   "execution_count": 15,
   "id": "bcf5d07e",
   "metadata": {},
   "outputs": [],
   "source": [
    "D0 = 2\n",
    "eps_order = 5\n",
    "Lambda = 7.6\n",
    "N = int(1e7)"
   ]
  },
  {
   "cell_type": "markdown",
   "id": "dc739d6d",
   "metadata": {},
   "source": [
    "## Tropical integration\n",
    "* $\\texttt{trop}$_$\\texttt{res}$ is the value of the Feynman integral, without any prefactor.\n",
    "* $\\texttt{Itr}$ is the normalization factor in the tropical measure."
   ]
  },
  {
   "cell_type": "code",
   "execution_count": null,
   "id": "0e9a502f",
   "metadata": {},
   "outputs": [
    {
     "name": "stdout",
     "output_type": "stream",
     "text": [
      "Prefactor: gamma(2*eps + 3).\n",
      "Generalized permutahedron property: fulfilled.\n",
      "(Effective) kinematic regime: Minkowski\n",
      "Analytic continuation: activated. Lambda = 7.6\n"
     ]
    }
   ],
   "source": [
    "trop_res, Itr = tropical_integration(graph, masses_sqr, momentum_vars, D0, eps_order, Lambda, N)"
   ]
  },
  {
   "cell_type": "markdown",
   "id": "feb90294",
   "metadata": {},
   "source": [
    "* This yields the $\\epsilon$-expansion with prefactor $\\frac{\\Gamma(\\omega)}{\\Gamma(\\nu_1) \\cdots \\Gamma(\\nu_E)}$ included, where $\\omega$ is the superficial degree of divergence and $E$ is the number of edges."
   ]
  },
  {
   "cell_type": "code",
   "execution_count": 11,
   "id": "45fd4a9b",
   "metadata": {},
   "outputs": [
    {
     "data": {
      "text/latex": [
       "$\\displaystyle 174.171297 i - 93.20022824 + eps \\left(-720.2473552 + 544.0741932 i\\right) + eps^{2} \\left(-2113.294178 + 497.2079595 i\\right) + eps^{3} \\left(-3568.151747 - 673.8189532 i\\right) + eps^{4} \\left(-3868.691529 - 2718.146343 i\\right) + O\\left(eps^{5}\\right)$"
      ],
      "text/plain": [
       "174.171297*I - 93.20022824 + eps*(-720.2473552 + 544.0741932*I) + eps**2*(-2113.294178 + 497.2079595*I) + eps**3*(-3568.151747 - 673.8189532*I) + eps**4*(-3868.691529 - 2718.146343*I) + O(eps**5)"
      ]
     },
     "execution_count": 11,
     "metadata": {},
     "output_type": "execute_result"
    }
   ],
   "source": [
    "eps_expansion(trop_res, graph, D0)"
   ]
  },
  {
   "cell_type": "code",
   "execution_count": null,
   "id": "8bcb3390",
   "metadata": {},
   "outputs": [],
   "source": []
  }
 ],
 "metadata": {
  "kernelspec": {
   "display_name": "Python 3 (ipykernel)",
   "language": "python",
   "name": "python3"
  },
  "language_info": {
   "codemirror_mode": {
    "name": "ipython",
    "version": 3
   },
   "file_extension": ".py",
   "mimetype": "text/x-python",
   "name": "python",
   "nbconvert_exporter": "python",
   "pygments_lexer": "ipython3",
   "version": "3.10.9"
  }
 },
 "nbformat": 4,
 "nbformat_minor": 5
}
