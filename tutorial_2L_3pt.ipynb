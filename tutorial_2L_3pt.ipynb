{
 "cells": [
  {
   "cell_type": "markdown",
   "id": "115a81c2",
   "metadata": {},
   "source": [
    "# `feyntrop` tutorial: A 2-loop 3-point Feynman graph"
   ]
  },
  {
   "cell_type": "markdown",
   "id": "daf0d521",
   "metadata": {},
   "source": [
    "The first step is to import the `feyntrop` module, assuming `feyntrop.so` and `py_feyntrop.py` are in the working directory, we can run:"
   ]
  },
  {
   "cell_type": "code",
   "execution_count": 1,
   "id": "0db93a2a",
   "metadata": {},
   "outputs": [],
   "source": [
    "from py_feyntrop import *"
   ]
  },
  {
   "cell_type": "markdown",
   "id": "77a26a21",
   "metadata": {},
   "source": [
    "## The graph\n",
    "* We specify the Feynman graph via a list of weighted edges.\n",
    "* Each item of the list is given in the format $((u,w),\\nu)$, where $u$ and $w$ are the vertices connected by the edge and $\\nu$ is the associated edge weight.\n",
    "* We use 0-indexing. So, the vertices are numbered $0,1,2,\\ldots$.\n",
    "* External vertices must come first, so $V_\\text{ext} = \\{0,1,2\\}$ label external partcles, and $V_\\text{int} = \\{3\\}$.\n",
    "\n",
    "The graph is then given as an edge list:"
   ]
  },
  {
   "cell_type": "code",
   "execution_count": 2,
   "id": "2498c296",
   "metadata": {},
   "outputs": [],
   "source": [
    "graph = [((0,1), 1), ((1,3), 1), ((3,2), 1), ((2,0), 1), ((0,3), 1)]"
   ]
  },
  {
   "cell_type": "markdown",
   "id": "007acf3d",
   "metadata": {},
   "source": [
    "## Kinematics\n",
    "* For each edge $e$ in `graph` we give an associated squared mass as list of tuples `(m_sqr[e], value)`.\n",
    "* Here we choose $m_e^2 = 0.2$ for all $e$.\n",
    "* For other examples where some internal masses are zero, one can use the following syntax:\n",
    "    - If *no* masses are given, i.e. the `tropical_integration` function below is called *without* the last argument `masses_sqr`, then all masses are assumed to be zero.\n",
    "    - If a list `masses_sqr` *is* given to `tropical_integration`, but some edge masses `(m_sqr[e], value)` are missing, then theses are asummed to be zero. For example, there might be three edges but we give `[(m_sqr[0], 1), (m_sqr[2], 2)]`, in which case `[(m_sqr[1], 0)]` is assumed."
   ]
  },
  {
   "cell_type": "code",
   "execution_count": 3,
   "id": "38038f4f",
   "metadata": {},
   "outputs": [],
   "source": [
    "masses_sqr = [(m_sqr[0], 0.2), (m_sqr[1], 0.2), (m_sqr[2], 0.2), (m_sqr[3], 0.2), (m_sqr[4], 0.2)]"
   ]
  },
  {
   "cell_type": "markdown",
   "id": "68c2caba",
   "metadata": {},
   "source": [
    "* Next we provide values for the momentum configuration.\n",
    "* The values for squared momenta $p_0^2, \\ldots, p_{|V_\\text{ext}|-2}^2$ are denoted by tuples `(p_sqr[v], value)`. In this case $|V_\\text{ext}| = 3$.\n",
    "* The values for Mandelstam variables $s_{ij}=(p_i+p_j)^2$ with $0 \\leq i < j \\leq |V_\\text{ext}|-2$ are written as `(s[i,j], value)`."
   ]
  },
  {
   "cell_type": "code",
   "execution_count": 4,
   "id": "68f67d45",
   "metadata": {},
   "outputs": [],
   "source": [
    "momentum_vars = [(p_sqr[0], 0), (p_sqr[1], 0), (s[0,1], 1)]"
   ]
  },
  {
   "cell_type": "markdown",
   "id": "9756b5df",
   "metadata": {},
   "source": [
    "## Additional settings\n",
    "* `D0` is the integer part of the spacetime dimension $D = D_0 - 2\\epsilon$.\n",
    "* We expand up to but not including `eps_order`.\n",
    "* `Lambda` denotes the deformation parameter $\\lambda$.\n",
    "* `N` is the number of Monte Carlo sampling points."
   ]
  },
  {
   "cell_type": "code",
   "execution_count": 5,
   "id": "bcf5d07e",
   "metadata": {},
   "outputs": [],
   "source": [
    "D0 = 2\n",
    "eps_order = 5\n",
    "Lambda = 7.6\n",
    "N = int(1e7)"
   ]
  },
  {
   "cell_type": "markdown",
   "id": "dc739d6d",
   "metadata": {},
   "source": [
    "## Tropical integration\n",
    "* `trop_res` is the value of the Feynman integral *without* any prefactor.\n",
    "* `Itr` is the normalization factor in the tropical measure."
   ]
  },
  {
   "cell_type": "code",
   "execution_count": 6,
   "id": "0e9a502f",
   "metadata": {},
   "outputs": [
    {
     "name": "stdout",
     "output_type": "stream",
     "text": [
      "Prefactor: gamma(2*eps + 3).\n",
      "Generalized permutahedron property: fulfilled.\n",
      "(Effective) kinematic regime: Minkowski\n",
      "Analytic continuation: activated. Lambda = 7.6\n",
      "Started integrating using 8 threads and N = 1e+07 points.\n",
      "Finished in 8.32646 seconds = 0.00231291 hours.\n",
      "\n",
      "-- eps^0: [-46.57  +/- 0.13]  +  i * [ 87.18  +/- 0.12]\n",
      "-- eps^1: [-274.43 +/- 0.55]  +  i * [111.30  +/- 0.55]\n",
      "-- eps^2: [-435.01 +/- 1.29]  +  i * [-174.52 +/- 1.33]\n",
      "-- eps^3: [-191.38 +/- 2.14]  +  i * [-494.81 +/- 2.15]\n",
      "-- eps^4: [219.81  +/- 2.68]  +  i * [-431.64 +/- 2.67]\n"
     ]
    }
   ],
   "source": [
    "trop_res, Itr = tropical_integration(N, D0, Lambda, eps_order, graph, momentum_vars, masses_sqr)"
   ]
  },
  {
   "cell_type": "markdown",
   "id": "feb90294",
   "metadata": {},
   "source": [
    "* This yields the $\\epsilon$-expansion *with* prefactor $\\frac{\\Gamma(\\omega)}{\\Gamma(\\nu_1) \\cdots \\Gamma(\\nu_E)} = \\Gamma(2\\epsilon+3)$ included, where $\\omega$ is the superficial degree of divergence and $E$ is the number of edges."
   ]
  },
  {
   "cell_type": "code",
   "execution_count": 7,
   "id": "45fd4a9b",
   "metadata": {},
   "outputs": [
    {
     "data": {
      "text/latex": [
       "$\\displaystyle 174.368276 i - 93.13615449 + eps \\left(-720.7454859 + 544.407457 i\\right) + eps^{2} \\left(-2115.152373 + 496.4724055 i\\right) + eps^{3} \\left(-3570.90746 - 677.8218899 i\\right) + eps^{4} \\left(-3869.466073 - 2726.897053 i\\right) + O\\left(eps^{5}\\right)$"
      ],
      "text/plain": [
       "174.368276*I - 93.13615449 + eps*(-720.7454859 + 544.407457*I) + eps**2*(-2115.152373 + 496.4724055*I) + eps**3*(-3570.90746 - 677.8218899*I) + eps**4*(-3869.466073 - 2726.897053*I) + O(eps**5)"
      ]
     },
     "execution_count": 7,
     "metadata": {},
     "output_type": "execute_result"
    }
   ],
   "source": [
    "eps_expansion(trop_res, graph, D0)"
   ]
  }
 ],
 "metadata": {
  "kernelspec": {
   "display_name": "Python 3 (ipykernel)",
   "language": "python",
   "name": "python3"
  },
  "language_info": {
   "codemirror_mode": {
    "name": "ipython",
    "version": 3
   },
   "file_extension": ".py",
   "mimetype": "text/x-python",
   "name": "python",
   "nbconvert_exporter": "python",
   "pygments_lexer": "ipython3",
   "version": "3.10.6"
  }
 },
 "nbformat": 4,
 "nbformat_minor": 5
}
