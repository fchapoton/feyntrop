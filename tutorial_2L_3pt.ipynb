{
 "cells": [
  {
   "cell_type": "markdown",
   "id": "115a81c2",
   "metadata": {},
   "source": [
    "# $\\texttt{feyntrop}$ tutorial: 2L_3pt diagram"
   ]
  },
  {
   "cell_type": "markdown",
   "id": "daf0d521",
   "metadata": {},
   "source": [
    "import the $\\texttt{feyntrop}$ module, assuming $\\texttt{feyntrop.so}$ and $\\texttt{py}$_$\\texttt{feyntrop.py}$ are in the working directory "
   ]
  },
  {
   "cell_type": "code",
   "execution_count": 1,
   "id": "0db93a2a",
   "metadata": {},
   "outputs": [],
   "source": [
    "from py_feyntrop import *"
   ]
  },
  {
   "cell_type": "markdown",
   "id": "d335254f",
   "metadata": {},
   "source": [
    "## The graph"
   ]
  },
  {
   "cell_type": "markdown",
   "id": "77a26a21",
   "metadata": {},
   "source": [
    "* We specify the graph from the tutorial of the paper via egdes $e$ and edge weights $\\nu_e$.\n",
    "* An edge $e = (v_i,v_j)$ is given by an unordered pair of vertices $v_i$ and $v_j$.\n",
    "* The edge weight $\\nu_e$ is written after the edge, so an entry in $\\texttt{graph}$ has the form $((v_i,v_j), \\nu_e)$.\n",
    "* Note the following convention: external vertices must come first, so $V_\\text{ext} = \\{0,1,2\\}$ label external partcles, and $V_\\text{int} = \\{3\\}$."
   ]
  },
  {
   "cell_type": "code",
   "execution_count": 2,
   "id": "2498c296",
   "metadata": {},
   "outputs": [],
   "source": [
    "graph = [((0,1), 1), ((1,3), 1), ((3,2), 1), ((2,0), 1), ((0,3), 1)]"
   ]
  },
  {
   "cell_type": "markdown",
   "id": "38f8d47b",
   "metadata": {},
   "source": [
    "## Kinematics"
   ]
  },
  {
   "cell_type": "markdown",
   "id": "007acf3d",
   "metadata": {},
   "source": [
    "* Every edge in $\\texttt{graph}$ has an associated squared mass.\n",
    "* For simplicity we set $m_e^2 = 0.2$ for all $e$."
   ]
  },
  {
   "cell_type": "code",
   "execution_count": 3,
   "id": "38038f4f",
   "metadata": {},
   "outputs": [],
   "source": [
    "masses_sqr = [0.2] * len(graph)"
   ]
  },
  {
   "cell_type": "markdown",
   "id": "68c2caba",
   "metadata": {},
   "source": [
    "* Next we provide values for the momentum configuration.\n",
    "* The values for squared momenta $p_0^2, \\ldots, p_{|V_\\text{ext}|-2}^2$ are denoted by tuples $(\\texttt{p}$_$\\texttt{sqr}[v], \\text{value})$. In this case $|V_\\text{ext}| = 3$.\n",
    "* The values for Mandelstam variables $s_{ij}=(p_i+p_j)^2$ with $0 \\leq i < j \\leq |V_\\text{ext}|-2$ are written as $(\\texttt{s}[i,j], \\text{value})$."
   ]
  },
  {
   "cell_type": "code",
   "execution_count": 4,
   "id": "68f67d45",
   "metadata": {},
   "outputs": [],
   "source": [
    "momentum_vars = [(p_sqr[0], 0), (p_sqr[1], 0), (s[0,1], 1)]"
   ]
  },
  {
   "cell_type": "markdown",
   "id": "d275cec6",
   "metadata": {},
   "source": [
    "## Additional settings"
   ]
  },
  {
   "cell_type": "markdown",
   "id": "9756b5df",
   "metadata": {},
   "source": [
    "* $\\texttt{D0}$ is the integer part of the spacetime dimension $D = D_0 - 2\\epsilon$.\n",
    "* We expand up to but not including $\\texttt{eps}$_$\\texttt{order}$.\n",
    "* $\\texttt{Lambda}$ denotes the deformation tuning parameter $\\lambda$.\n",
    "* $\\texttt{N}$ is the number of Monte Carlo sampling points."
   ]
  },
  {
   "cell_type": "code",
   "execution_count": 5,
   "id": "bcf5d07e",
   "metadata": {},
   "outputs": [],
   "source": [
    "D0 = 2\n",
    "eps_order = 5\n",
    "Lambda = 7.6\n",
    "N = int(1e8)"
   ]
  },
  {
   "cell_type": "markdown",
   "id": "263758e4",
   "metadata": {},
   "source": [
    "## Tropical integration"
   ]
  },
  {
   "cell_type": "markdown",
   "id": "dc739d6d",
   "metadata": {},
   "source": [
    "* $\\texttt{trop}$_$\\texttt{res}$ is the value of the Feynman integral, without any prefactor.\n",
    "* $\\texttt{Itr}$ is the normalization factor in the tropical measure."
   ]
  },
  {
   "cell_type": "code",
   "execution_count": 6,
   "id": "0e9a502f",
   "metadata": {},
   "outputs": [
    {
     "name": "stdout",
     "output_type": "stream",
     "text": [
      "Prefactor: gamma(2*eps + 3).\n",
      "Analytic continuation: activated.\n",
      "Generalized permutahedron property: fulfilled.\n",
      "Started integrating using 8 threads and N = 1e+08 points.\n",
      "Finished in 61.2052 seconds = 0.0170014 hours.\n",
      "\n",
      "-- eps^0: [-46.594 +/- 0.041]  +  i * [87.082  +/- 0.039]\n",
      "-- eps^1: [-274.09 +/- 0.17 ]  +  i * [111.31  +/- 0.17 ]\n",
      "-- eps^2: [-434.52 +/- 0.41 ]  +  i * [-173.89 +/- 0.42 ]\n",
      "-- eps^3: [-191.51 +/- 0.68 ]  +  i * [-493.61 +/- 0.68 ]\n",
      "-- eps^4: [218.61  +/- 0.85 ]  +  i * [-430.57 +/- 0.84 ]\n"
     ]
    }
   ],
   "source": [
    "trop_res, Itr = tropical_integration(graph, masses_sqr, momentum_vars, D0, eps_order, Lambda, N)"
   ]
  },
  {
   "cell_type": "markdown",
   "id": "feb90294",
   "metadata": {},
   "source": [
    "* This yields the $\\epsilon$-expansion with prefactor $\\frac{\\Gamma(\\omega)}{\\Gamma(\\nu_1) \\cdots \\Gamma(\\nu_E)}$ included, where $\\omega$ is the superficial degree of divergence and $E$ is the number of edges."
   ]
  },
  {
   "cell_type": "code",
   "execution_count": 7,
   "id": "45fd4a9b",
   "metadata": {},
   "outputs": [
    {
     "data": {
      "text/latex": [
       "$\\displaystyle 174.1647186 i - 93.18709576 + eps \\left(-720.1623519 + 544.0599593 i\\right) + eps^{2} \\left(-2113.052426 + 497.2749716 i\\right) + eps^{3} \\left(-3567.801342 - 673.498542 i\\right) + eps^{4} \\left(-3868.462333 - 2717.501206 i\\right) + O\\left(eps^{5}\\right)$"
      ],
      "text/plain": [
       "174.1647186*I - 93.18709576 + eps*(-720.1623519 + 544.0599593*I) + eps**2*(-2113.052426 + 497.2749716*I) + eps**3*(-3567.801342 - 673.498542*I) + eps**4*(-3868.462333 - 2717.501206*I) + O(eps**5)"
      ]
     },
     "execution_count": 7,
     "metadata": {},
     "output_type": "execute_result"
    }
   ],
   "source": [
    "eps_expansion(trop_res, graph, D0)"
   ]
  }
 ],
 "metadata": {
  "kernelspec": {
   "display_name": "Python 3 (ipykernel)",
   "language": "python",
   "name": "python3"
  },
  "language_info": {
   "codemirror_mode": {
    "name": "ipython",
    "version": 3
   },
   "file_extension": ".py",
   "mimetype": "text/x-python",
   "name": "python",
   "nbconvert_exporter": "python",
   "pygments_lexer": "ipython3",
   "version": "3.10.6"
  }
 },
 "nbformat": 4,
 "nbformat_minor": 5
}
