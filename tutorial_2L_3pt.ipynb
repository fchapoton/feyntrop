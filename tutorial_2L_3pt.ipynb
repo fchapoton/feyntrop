{
 "cells": [
  {
   "cell_type": "markdown",
   "id": "115a81c2",
   "metadata": {},
   "source": [
    "# $\\texttt{feyntrop}$ tutorial: 2L_3pt diagram"
   ]
  },
  {
   "cell_type": "markdown",
   "id": "daf0d521",
   "metadata": {},
   "source": [
    "import the $\\texttt{feyntrop}$ module, assuming $\\texttt{feyntrop.so}$ and $\\texttt{pytrop.py}$ are in the working directory "
   ]
  },
  {
   "cell_type": "code",
   "execution_count": 1,
   "id": "0db93a2a",
   "metadata": {},
   "outputs": [],
   "source": [
    "from pytrop import *"
   ]
  },
  {
   "cell_type": "markdown",
   "id": "d335254f",
   "metadata": {},
   "source": [
    "## The graph"
   ]
  },
  {
   "cell_type": "markdown",
   "id": "77a26a21",
   "metadata": {},
   "source": [
    "* We specify the graph from the tutorial of the paper via egdes $e$ and edge weights $\\nu_e$.\n",
    "* An edge $e = (v_i,v_j)$ is given by an unordered pair of vertices $v_i$ and $v_j$.\n",
    "* The edge weight $\\nu_e$ is written after the edge, so an entry in $\\texttt{graph}$ has the form $((v_i,v_j), \\nu_e)$.\n",
    "* Note the following convention: external vertices must come first, so $V_\\text{ext} = \\{0,1,2\\}$ label external partcles, and $V_\\text{int} = \\{3\\}$."
   ]
  },
  {
   "cell_type": "code",
   "execution_count": 2,
   "id": "2498c296",
   "metadata": {},
   "outputs": [],
   "source": [
    "graph = [((0,1), 1), ((1,3), 1), ((3,2), 1), ((2,0), 1), ((0,3), 1)]"
   ]
  },
  {
   "cell_type": "markdown",
   "id": "38f8d47b",
   "metadata": {},
   "source": [
    "## Kinematics"
   ]
  },
  {
   "cell_type": "markdown",
   "id": "007acf3d",
   "metadata": {},
   "source": [
    "* Every edge in $\\texttt{graph}$ has an associated squared mass.\n",
    "* For simplicity we set $m_e^2 = 0.2$ for all $e$."
   ]
  },
  {
   "cell_type": "code",
   "execution_count": 3,
   "id": "38038f4f",
   "metadata": {},
   "outputs": [],
   "source": [
    "masses = [0.2] * len(graph)"
   ]
  },
  {
   "cell_type": "markdown",
   "id": "68c2caba",
   "metadata": {},
   "source": [
    "* Next we provide values for the momentum configuration.\n",
    "* The values for squared momenta $p_0^2, \\ldots, p_{|V_\\text{ext}|-2}^2$ are denoted by $(\\texttt{sp}[v,v], \\text{value})$, where $\\texttt{sp}$ stands for scalar product. In this case $|V_\\text{ext}| = 3$.\n",
    "* The values for Mandelstam variables $s_{ij}=(p_i+p_j)^2$ with $0 \\leq i < j \\leq |V_\\text{ext}|-2$ are written as $(\\texttt{s}[i,j], \\text{value})$."
   ]
  },
  {
   "cell_type": "code",
   "execution_count": 4,
   "id": "68f67d45",
   "metadata": {},
   "outputs": [],
   "source": [
    "momentum_vars = [(sp[0,0], 0), (sp[1,1], 0), (s[0,1], 1)]"
   ]
  },
  {
   "cell_type": "markdown",
   "id": "d275cec6",
   "metadata": {},
   "source": [
    "## Additional settings"
   ]
  },
  {
   "cell_type": "markdown",
   "id": "9756b5df",
   "metadata": {},
   "source": [
    "* $\\texttt{D0}$ is the integer part of the spacetime dimension $D = D_0 - 2\\epsilon$.\n",
    "* We expand up to but not including $\\texttt{eps}$_$\\texttt{order}$.\n",
    "* $\\texttt{Lambda}$ denotes the deformation tuning parameter $\\lambda$.\n",
    "* $\\texttt{N}$ is the number of Monte Carlo sampling points."
   ]
  },
  {
   "cell_type": "code",
   "execution_count": 5,
   "id": "bcf5d07e",
   "metadata": {},
   "outputs": [],
   "source": [
    "D0 = 2\n",
    "eps_order = 3\n",
    "Lambda = 8.9\n",
    "N = int(1e7)"
   ]
  },
  {
   "cell_type": "markdown",
   "id": "263758e4",
   "metadata": {},
   "source": [
    "## Tropical integration"
   ]
  },
  {
   "cell_type": "markdown",
   "id": "dc739d6d",
   "metadata": {},
   "source": [
    "* $\\texttt{trop}$_$\\texttt{res}$ is the value of the Feynman integral, without any prefactor.\n",
    "* $\\texttt{Itr}$ is the normalization factor in the tropical measure."
   ]
  },
  {
   "cell_type": "code",
   "execution_count": 6,
   "id": "0e9a502f",
   "metadata": {},
   "outputs": [
    {
     "name": "stdout",
     "output_type": "stream",
     "text": [
      "Prefactor: gamma(2*eps + 3).\n"
     ]
    },
    {
     "ename": "NameError",
     "evalue": "name 'ostream_redirect' is not defined",
     "output_type": "error",
     "traceback": [
      "\u001b[0;31m---------------------------------------------------------------------------\u001b[0m",
      "\u001b[0;31mNameError\u001b[0m                                 Traceback (most recent call last)",
      "Cell \u001b[0;32mIn[6], line 1\u001b[0m\n\u001b[0;32m----> 1\u001b[0m trop_res, Itr \u001b[38;5;241m=\u001b[39m \u001b[43mtropical_integration\u001b[49m\u001b[43m(\u001b[49m\u001b[43mgraph\u001b[49m\u001b[43m,\u001b[49m\u001b[43m \u001b[49m\u001b[43mmasses\u001b[49m\u001b[43m,\u001b[49m\u001b[43m \u001b[49m\u001b[43mmomentum_vars\u001b[49m\u001b[43m,\u001b[49m\u001b[43m \u001b[49m\u001b[43mD0\u001b[49m\u001b[43m,\u001b[49m\u001b[43m \u001b[49m\u001b[43meps_order\u001b[49m\u001b[43m,\u001b[49m\u001b[43m \u001b[49m\u001b[43mLambda\u001b[49m\u001b[43m,\u001b[49m\u001b[43m \u001b[49m\u001b[43mN\u001b[49m\u001b[43m)\u001b[49m\n",
      "File \u001b[0;32m~/test/feyntrop/pytrop.py:144\u001b[0m, in \u001b[0;36mtropical_integration\u001b[0;34m(graph, masses, mom_var, D0, eps_order, Lambda, N, verbose)\u001b[0m\n\u001b[1;32m    140\u001b[0m g \u001b[38;5;241m=\u001b[39m feyntrop\u001b[38;5;241m.\u001b[39mgraph(graph)\n\u001b[1;32m    142\u001b[0m pi_pj \u001b[38;5;241m=\u001b[39m set_momenta(graph, mom_var)\n\u001b[0;32m--> 144\u001b[0m \u001b[38;5;28;01mwith\u001b[39;00m \u001b[43mostream_redirect\u001b[49m(stdout\u001b[38;5;241m=\u001b[39mverbose, stderr\u001b[38;5;241m=\u001b[39m\u001b[38;5;28;01mTrue\u001b[39;00m):\n\u001b[1;32m    145\u001b[0m     trop_int, Itr  \u001b[38;5;241m=\u001b[39m feyntrop\u001b[38;5;241m.\u001b[39mintegrate_graph(g, D0, pi_pj, masses, eps_order, Lambda, N)\n\u001b[1;32m    147\u001b[0m \u001b[38;5;28mprint\u001b[39m(\u001b[38;5;124m\"\u001b[39m\u001b[38;5;124m\"\u001b[39m)\n",
      "\u001b[0;31mNameError\u001b[0m: name 'ostream_redirect' is not defined"
     ]
    }
   ],
   "source": [
    "trop_res, Itr = tropical_integration(graph, masses, momentum_vars, D0, eps_order, Lambda, N)"
   ]
  },
  {
   "cell_type": "markdown",
   "id": "feb90294",
   "metadata": {},
   "source": [
    "* This yields the $\\epsilon$-expansion with prefactor $\\frac{\\Gamma(\\omega)}{\\Gamma(\\nu_1) \\cdots \\Gamma(\\nu_E)}$ included, where $\\omega$ is the superficial degree of divergence and $E$ is the number of edges."
   ]
  },
  {
   "cell_type": "code",
   "execution_count": null,
   "id": "45fd4a9b",
   "metadata": {},
   "outputs": [],
   "source": [
    "eps_expansion(trop_res, graph, D0)"
   ]
  },
  {
   "cell_type": "code",
   "execution_count": null,
   "id": "bf533a1e",
   "metadata": {},
   "outputs": [],
   "source": []
  }
 ],
 "metadata": {
  "kernelspec": {
   "display_name": "Python 3 (ipykernel)",
   "language": "python",
   "name": "python3"
  },
  "language_info": {
   "codemirror_mode": {
    "name": "ipython",
    "version": 3
   },
   "file_extension": ".py",
   "mimetype": "text/x-python",
   "name": "python",
   "nbconvert_exporter": "python",
   "pygments_lexer": "ipython3",
   "version": "3.10.9"
  }
 },
 "nbformat": 4,
 "nbformat_minor": 5
}
