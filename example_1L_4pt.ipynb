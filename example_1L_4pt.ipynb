{
 "cells": [
  {
   "cell_type": "markdown",
   "id": "3c51c003",
   "metadata": {},
   "source": [
    "# $\\texttt{feyntrop}$ example: 1L_4pt diagram\n",
    "* for a detailed turorial, please open $\\texttt{tutorial}$\\_$\\texttt{2L}$\\_$\\texttt{3pt}$.$\\texttt{ipynb}$."
   ]
  },
  {
   "cell_type": "code",
   "execution_count": 1,
   "id": "0bf75453",
   "metadata": {},
   "outputs": [],
   "source": [
    "from pytrop import *"
   ]
  },
  {
   "cell_type": "markdown",
   "id": "d0345fd7",
   "metadata": {},
   "source": [
    "* box diagram"
   ]
  },
  {
   "cell_type": "code",
   "execution_count": 2,
   "id": "bbfbf7a2",
   "metadata": {},
   "outputs": [],
   "source": [
    "graph = [((0, 1), 1), ((1, 2), 1), ((2, 3), 1), ((3, 0), 1)]"
   ]
  },
  {
   "cell_type": "markdown",
   "id": "30354ad9",
   "metadata": {},
   "source": [
    "* kinematics"
   ]
  },
  {
   "cell_type": "code",
   "execution_count": 3,
   "id": "2ab889f0",
   "metadata": {},
   "outputs": [],
   "source": [
    "masses = [0.1, 0.2, 0.3, 0.4]\n",
    "momentum_vars = [\n",
    "    (sp[0,0], 1.1),\n",
    "    (sp[1,1], 1.2),\n",
    "    (sp[2,2], 1.3),\n",
    "    (s[0,1] , 1.4),\n",
    "    (s[0,2] , 1.5),\n",
    "    (s[1,2] , 1.6)]"
   ]
  },
  {
   "cell_type": "markdown",
   "id": "4a34e4d1",
   "metadata": {},
   "source": [
    "* additional seetings"
   ]
  },
  {
   "cell_type": "code",
   "execution_count": 4,
   "id": "ea857eb8",
   "metadata": {},
   "outputs": [],
   "source": [
    "D0 = 4\n",
    "eps_order = 3\n",
    "Lambda = 1.8\n",
    "N = int(1e7)"
   ]
  },
  {
   "cell_type": "markdown",
   "id": "f1238414",
   "metadata": {},
   "source": [
    "* tropical integration"
   ]
  },
  {
   "cell_type": "code",
   "execution_count": 5,
   "id": "5b1bb3a5",
   "metadata": {},
   "outputs": [
    {
     "name": "stdout",
     "output_type": "stream",
     "text": [
      "\n",
      "prefactor:\n",
      "gamma(eps + 2)\n",
      "\n",
      "Analytic continuation is activated\n",
      "Using 384 bytes of RAM \n",
      "The generalized permutahedron property is fulfilled.\n",
      "Start integrating using 8 threads and N = 1e+07 points\n",
      "Finished sampling 1e+07 points in 6.89442 seconds \n",
      "Average speed: 1.45045e+06 samples / second \n",
      "\n",
      "eps^0 : [(+1) * 2.591091 +/- 0.004676] + I * [(-1) * 5.908319 +/- 0.004516]\n",
      "eps^1 : [(+1) * 19.347131 +/- 0.015700] + I * [(-1) * 1.981062 +/- 0.013925]\n",
      "eps^2 : [(+1) * 17.641991 +/- 0.022241] + I * [(+1) * 25.043953 +/- 0.027508]\n"
     ]
    }
   ],
   "source": [
    "trop_res, Itr = tropical_integration(graph, masses, momentum_vars, D0, eps_order, Lambda, N)"
   ]
  },
  {
   "cell_type": "markdown",
   "id": "0c7820e0",
   "metadata": {},
   "source": [
    "* $\\epsilon$-expansion"
   ]
  },
  {
   "cell_type": "code",
   "execution_count": 6,
   "id": "22d9d51b",
   "metadata": {},
   "outputs": [
    {
     "data": {
      "text/latex": [
       "$\\displaystyle - 5.908319442 i + 2.591091072 + eps \\left(20.44260325 - 4.479007026 i\\right) + eps^{2} \\left(26.88877005 + 21.77310671 i\\right) + O\\left(eps^{3}\\right)$"
      ],
      "text/plain": [
       "-5.908319442*I + 2.591091072 + eps*(20.44260325 - 4.479007026*I) + eps**2*(26.88877005 + 21.77310671*I) + O(eps**3)"
      ]
     },
     "execution_count": 6,
     "metadata": {},
     "output_type": "execute_result"
    }
   ],
   "source": [
    "eps_expansion(trop_res, graph, D0)"
   ]
  }
 ],
 "metadata": {
  "kernelspec": {
   "display_name": "Python 3 (ipykernel)",
   "language": "python",
   "name": "python3"
  },
  "language_info": {
   "codemirror_mode": {
    "name": "ipython",
    "version": 3
   },
   "file_extension": ".py",
   "mimetype": "text/x-python",
   "name": "python",
   "nbconvert_exporter": "python",
   "pygments_lexer": "ipython3",
   "version": "3.10.6"
  }
 },
 "nbformat": 4,
 "nbformat_minor": 5
}
