{
 "cells": [
  {
   "cell_type": "markdown",
   "id": "3c51c003",
   "metadata": {},
   "source": [
    "# $\\texttt{feyntrop}$ example: 1L_4pt diagram\n",
    "* for a detailed turorial, please open $\\texttt{tutorial}$\\_$\\texttt{2L}$\\_$\\texttt{3pt}$.$\\texttt{ipynb}$."
   ]
  },
  {
   "cell_type": "code",
   "execution_count": 2,
   "id": "0bf75453",
   "metadata": {},
   "outputs": [],
   "source": [
    "from py_feyntrop import *"
   ]
  },
  {
   "cell_type": "markdown",
   "id": "d0345fd7",
   "metadata": {},
   "source": [
    "* box diagram"
   ]
  },
  {
   "cell_type": "code",
   "execution_count": 3,
   "id": "bbfbf7a2",
   "metadata": {},
   "outputs": [],
   "source": [
    "graph = [((0, 1), 1), ((1, 2), 1), ((2, 3), 1), ((3, 0), 1)]"
   ]
  },
  {
   "cell_type": "markdown",
   "id": "30354ad9",
   "metadata": {},
   "source": [
    "* kinematics"
   ]
  },
  {
   "cell_type": "code",
   "execution_count": 5,
   "id": "2ab889f0",
   "metadata": {},
   "outputs": [],
   "source": [
    "masses_sqr = [0.1, 0.2, 0.3, 0.4]\n",
    "\n",
    "momentum_vars = [\n",
    "    (p_sqr[0], 1.1),\n",
    "    (p_sqr[1], 1.2),\n",
    "    (p_sqr[2], 1.3),\n",
    "    (s[0,1]  , 1.4),\n",
    "    (s[0,2]  , 1.5),\n",
    "    (s[1,2]  , 1.6)]"
   ]
  },
  {
   "cell_type": "markdown",
   "id": "4a34e4d1",
   "metadata": {},
   "source": [
    "* additional settings"
   ]
  },
  {
   "cell_type": "code",
   "execution_count": 6,
   "id": "ea857eb8",
   "metadata": {},
   "outputs": [],
   "source": [
    "D0 = 4\n",
    "eps_order = 3\n",
    "Lambda = 1.8\n",
    "N = int(1e7)"
   ]
  },
  {
   "cell_type": "markdown",
   "id": "f1238414",
   "metadata": {},
   "source": [
    "* tropical integration"
   ]
  },
  {
   "cell_type": "code",
   "execution_count": 7,
   "id": "5b1bb3a5",
   "metadata": {},
   "outputs": [
    {
     "name": "stdout",
     "output_type": "stream",
     "text": [
      "Prefactor: gamma(eps + 2).\n",
      "Analytic continuation: activated.\n",
      "Generalized permutahedron property: fulfilled.\n",
      "Started integrating using 8 threads and N = 1e+07 points.\n",
      "Finished in 4.50167 seconds = 0.00125046 hours.\n",
      "\n",
      "-- eps^0: [2.5940 +/- 0.0040]  +  i * [-5.9053 +/- 0.0026]\n",
      "-- eps^1: [19.344 +/- 0.010 ]  +  i * [-1.967  +/- 0.011 ]\n",
      "-- eps^2: [17.622 +/- 0.014 ]  +  i * [25.053  +/- 0.022 ]\n"
     ]
    }
   ],
   "source": [
    "trop_res, Itr = tropical_integration(graph, masses_sqr, momentum_vars, D0, eps_order, Lambda, N)"
   ]
  },
  {
   "cell_type": "markdown",
   "id": "0c7820e0",
   "metadata": {},
   "source": [
    "* $\\epsilon$-expansion"
   ]
  },
  {
   "cell_type": "code",
   "execution_count": 8,
   "id": "22d9d51b",
   "metadata": {},
   "outputs": [
    {
     "data": {
      "text/latex": [
       "$\\displaystyle - 5.905250885 i + 2.594029564 + eps \\left(20.44088662 - 4.464123727 i\\right) + eps^{2} \\left(26.86884124 + 21.78928383 i\\right) + O\\left(eps^{3}\\right)$"
      ],
      "text/plain": [
       "-5.905250885*I + 2.594029564 + eps*(20.44088662 - 4.464123727*I) + eps**2*(26.86884124 + 21.78928383*I) + O(eps**3)"
      ]
     },
     "execution_count": 8,
     "metadata": {},
     "output_type": "execute_result"
    }
   ],
   "source": [
    "eps_expansion(trop_res, graph, D0)"
   ]
  }
 ],
 "metadata": {
  "kernelspec": {
   "display_name": "Python 3 (ipykernel)",
   "language": "python",
   "name": "python3"
  },
  "language_info": {
   "codemirror_mode": {
    "name": "ipython",
    "version": 3
   },
   "file_extension": ".py",
   "mimetype": "text/x-python",
   "name": "python",
   "nbconvert_exporter": "python",
   "pygments_lexer": "ipython3",
   "version": "3.10.6"
  }
 },
 "nbformat": 4,
 "nbformat_minor": 5
}
