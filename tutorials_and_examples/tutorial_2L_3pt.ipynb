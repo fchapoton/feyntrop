{
 "cells": [
  {
   "cell_type": "markdown",
   "id": "115a81c2",
   "metadata": {},
   "source": [
    "# $\\texttt{feyntrop}$ tutorial: 2L_3pt diagram"
   ]
  },
  {
   "cell_type": "markdown",
   "id": "daf0d521",
   "metadata": {},
   "source": [
    "import the $\\texttt{feyntrop}$ module, assuming $\\texttt{feyntrop.so}$ and $\\texttt{pytrop.py}$ are in the working directory "
   ]
  },
  {
   "cell_type": "code",
   "execution_count": 1,
   "id": "0db93a2a",
   "metadata": {},
   "outputs": [],
   "source": [
    "from pytrop import *"
   ]
  },
  {
   "cell_type": "markdown",
   "id": "d335254f",
   "metadata": {},
   "source": [
    "## The graph"
   ]
  },
  {
   "cell_type": "markdown",
   "id": "77a26a21",
   "metadata": {},
   "source": [
    "* We specify the graph from the tutorial of the paper via egdes $e$ and edge weights $\\nu_e$.\n",
    "* An edge $e = (v_i,v_j)$ is given by an unordered pair of vertices $v_i$ and $v_j$.\n",
    "* The edge weight $\\nu_e$ is written after the edge, so an entry in $\\texttt{graph}$ has the form $((v_i,v_j), \\nu_e)$.\n",
    "* Note the following convention: external vertices must come first, so $V_\\text{ext} = \\{0,1,2\\}$ label external partcles, and $V_\\text{int} = \\{3\\}$."
   ]
  },
  {
   "cell_type": "code",
   "execution_count": 2,
   "id": "2498c296",
   "metadata": {},
   "outputs": [],
   "source": [
    "graph = [((0,1), 1), ((1,3), 1), ((3,2), 1), ((2,0), 1), ((0,3), 1)]"
   ]
  },
  {
   "cell_type": "markdown",
   "id": "38f8d47b",
   "metadata": {},
   "source": [
    "## Kinematics"
   ]
  },
  {
   "cell_type": "markdown",
   "id": "007acf3d",
   "metadata": {},
   "source": [
    "* Every edge in $\\texttt{graph}$ has an associated squared mass.\n",
    "* For simplicity we set $m_e^2 = 0.2$ for all $e$."
   ]
  },
  {
   "cell_type": "code",
   "execution_count": 3,
   "id": "38038f4f",
   "metadata": {},
   "outputs": [],
   "source": [
    "masses = [0.2] * len(graph)"
   ]
  },
  {
   "cell_type": "markdown",
   "id": "68c2caba",
   "metadata": {},
   "source": [
    "* Next we provide values for the momentum configuration.\n",
    "* The values for squared momenta $p_0^2, \\ldots, p_{|V_\\text{ext}|-2}^2$ are denoted by $(\\texttt{sp}[v,v], \\text{value})$, where $\\texttt{sp}$ stands for scalar product. In this case $|V_\\text{ext}| = 3$.\n",
    "* The values for Mandelstam variables $s_{ij}=(p_i+p_j)^2$ with $0 \\leq i < j \\leq |V_\\text{ext}|-2$ are written as $(\\texttt{s}[i,j], \\text{value})$."
   ]
  },
  {
   "cell_type": "code",
   "execution_count": 4,
   "id": "68f67d45",
   "metadata": {},
   "outputs": [],
   "source": [
    "momentum_vars = [(sp[0,0], 0), (sp[1,1], 0), (s[0,1], 1)]"
   ]
  },
  {
   "cell_type": "markdown",
   "id": "d275cec6",
   "metadata": {},
   "source": [
    "## Additional settings"
   ]
  },
  {
   "cell_type": "markdown",
   "id": "9756b5df",
   "metadata": {},
   "source": [
    "* $\\texttt{D0}$ is the integer part of the spacetime dimension $D = D_0 - 2\\epsilon$.\n",
    "* We expand up to but not including $\\texttt{eps}$_$\\texttt{order}$.\n",
    "* $\\texttt{Lambda}$ denotes the deformation tuning parameter $\\lambda$.\n",
    "* $\\texttt{N}$ is the number of Monte Carlo sampling points."
   ]
  },
  {
   "cell_type": "code",
   "execution_count": 5,
   "id": "bcf5d07e",
   "metadata": {},
   "outputs": [],
   "source": [
    "D0 = 2\n",
    "eps_order = 3\n",
    "Lambda = 8.9\n",
    "N = int(1e7)"
   ]
  },
  {
   "cell_type": "markdown",
   "id": "263758e4",
   "metadata": {},
   "source": [
    "## Tropical integration"
   ]
  },
  {
   "cell_type": "markdown",
   "id": "dc739d6d",
   "metadata": {},
   "source": [
    "* $\\texttt{trop}$_$\\texttt{res}$ is the value of the Feynman integral, without any prefactor.\n",
    "* $\\texttt{Itr}$ is the normalization factor in the tropical measure."
   ]
  },
  {
   "cell_type": "code",
   "execution_count": 6,
   "id": "0e9a502f",
   "metadata": {},
   "outputs": [
    {
     "name": "stdout",
     "output_type": "stream",
     "text": [
      "\n",
      "prefactor:\n",
      "gamma(2*eps + 3)\n",
      "\n",
      "Analytic continuation is activated\n",
      "Using 768 bytes of RAM \n",
      "The generalized permutahedron property is fulfilled.\n",
      "Start integrating using 8 threads and N = 1e+07 points\n",
      "Finished sampling 1e+07 points in 7.83013 seconds \n",
      "Average speed: 1.27712e+06 samples / second \n",
      "\n",
      "eps^0 : [(-1) * 46.551416 +/- 0.131484] + I * [(+1) * 87.204771 +/- 0.125077]\n",
      "eps^1 : [(-1) * 273.919719 +/- 0.558878] + I * [(+1) * 105.938074 +/- 0.556606]\n",
      "eps^2 : [(-1) * 420.599627 +/- 1.302221] + I * [(-1) * 183.004333 +/- 1.336273]\n"
     ]
    }
   ],
   "source": [
    "trop_res, Itr = tropical_integration(graph, masses, momentum_vars, D0, eps_order, Lambda, N)"
   ]
  },
  {
   "cell_type": "markdown",
   "id": "feb90294",
   "metadata": {},
   "source": [
    "* This yields the $\\epsilon$-expansion with prefactor $\\frac{\\Gamma(\\omega)}{\\Gamma(\\nu_1) \\cdots \\Gamma(\\nu_E)}$ included, where $\\omega$ is the superficial degree of divergence and $E$ is the number of edges."
   ]
  },
  {
   "cell_type": "code",
   "execution_count": 7,
   "id": "45fd4a9b",
   "metadata": {},
   "outputs": [
    {
     "data": {
      "text/latex": [
       "$\\displaystyle 174.4095425 i - 93.10283133 + eps \\left(-719.6671064 + 533.7609351 i\\right) + eps^{2} \\left(-2084.373398 + 459.8140938 i\\right) + O\\left(eps^{3}\\right)$"
      ],
      "text/plain": [
       "174.4095425*I - 93.10283133 + eps*(-719.6671064 + 533.7609351*I) + eps**2*(-2084.373398 + 459.8140938*I) + O(eps**3)"
      ]
     },
     "execution_count": 7,
     "metadata": {},
     "output_type": "execute_result"
    }
   ],
   "source": [
    "eps_expansion(trop_res, graph, D0)"
   ]
  }
 ],
 "metadata": {
  "kernelspec": {
   "display_name": "Python 3 (ipykernel)",
   "language": "python",
   "name": "python3"
  },
  "language_info": {
   "codemirror_mode": {
    "name": "ipython",
    "version": 3
   },
   "file_extension": ".py",
   "mimetype": "text/x-python",
   "name": "python",
   "nbconvert_exporter": "python",
   "pygments_lexer": "ipython3",
   "version": "3.10.6"
  }
 },
 "nbformat": 4,
 "nbformat_minor": 5
}
