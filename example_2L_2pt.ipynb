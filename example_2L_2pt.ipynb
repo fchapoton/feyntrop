{
 "cells": [
  {
   "cell_type": "markdown",
   "id": "3c51c003",
   "metadata": {},
   "source": [
    "# $\\texttt{feyntrop}$ example: 2L_2pt diagram\n",
    "* for a detailed turorial, please open $\\texttt{tutorial}$\\_$\\texttt{2L}$\\_$\\texttt{3pt}$.$\\texttt{ipynb}$."
   ]
  },
  {
   "cell_type": "code",
   "execution_count": 1,
   "id": "0bf75453",
   "metadata": {},
   "outputs": [],
   "source": [
    "from pytrop import *"
   ]
  },
  {
   "cell_type": "markdown",
   "id": "d0345fd7",
   "metadata": {},
   "source": [
    "* --(|)-- diagram"
   ]
  },
  {
   "cell_type": "code",
   "execution_count": 2,
   "id": "bbfbf7a2",
   "metadata": {},
   "outputs": [],
   "source": [
    "graph = [((0,2), 1), ((0,3), 1), ((1,2), 1), ((1,3), 1), ((2,3), 1)]"
   ]
  },
  {
   "cell_type": "markdown",
   "id": "30354ad9",
   "metadata": {},
   "source": [
    "* kinematics (no Mandelstam variables in this case)"
   ]
  },
  {
   "cell_type": "code",
   "execution_count": 3,
   "id": "2ab889f0",
   "metadata": {},
   "outputs": [],
   "source": [
    "masses = [0.1, 0.2, 0.3, 0.4, 0.5]\n",
    "momentum_vars = [(sp[0,0], 3)]"
   ]
  },
  {
   "cell_type": "markdown",
   "id": "4a34e4d1",
   "metadata": {},
   "source": [
    "* additional seetings"
   ]
  },
  {
   "cell_type": "code",
   "execution_count": 4,
   "id": "ea857eb8",
   "metadata": {},
   "outputs": [],
   "source": [
    "D0 = 4\n",
    "eps_order = 5\n",
    "Lambda = 1.7\n",
    "N = int(1e7)"
   ]
  },
  {
   "cell_type": "markdown",
   "id": "f1238414",
   "metadata": {},
   "source": [
    "* tropical integration"
   ]
  },
  {
   "cell_type": "code",
   "execution_count": 5,
   "id": "5b1bb3a5",
   "metadata": {},
   "outputs": [
    {
     "name": "stdout",
     "output_type": "stream",
     "text": [
      "Prefactor: gamma(2*eps + 1).\n",
      "Analytic continuation: activated.\n",
      "Generalized permutahedron property: fulfilled.\n",
      "Started integrating using 8 threads and N = 1e+07 points.\n",
      "Finished in 6.17859 seconds = 0.00171628 hours.\n",
      "\n",
      "eps^0 : [(-1) * 175376637984729637507804692480.000000 +/- 176656827797908928525468958720.000000] + I * [(+1) * 5342599716899403893208122392576.000000 +/- 5374085134567317601703627325440.000000]\n",
      "eps^1 : [(-1) * 7580422338572447400323444637696.000000 +/- 7539424981844248495396675911680.000000] + I * [(-1) * 76844812825374104892088424333312.000000 +/- 77279511117208535016236818366464.000000]\n",
      "eps^2 : [(+1) * 126816358829586859518212985323520.000000 +/- 126370629657098891467785007792128.000000] + I * [(+1) * 543205964722769970546415021064192.000000 +/- 546198506574065384583127728390144.000000]\n",
      "eps^3 : [(-1) * 947057716140952553867966179966976.000000 +/- 944258152957460085812727505747968.000000] + I * [(-1) * 2514288007468186038648179425017856.000000 +/- 2527983467593585666037365484814336.000000]\n",
      "eps^4 : [(+1) * 4576407851101925247262368009814016.000000 +/- 4564170497047581533637989615271936.000000] + I * [(+1) * 8560043401693438705988495382413312.000000 +/- 8606915883893951169137034242555904.000000]\n"
     ]
    }
   ],
   "source": [
    "trop_res, Itr = tropical_integration(graph, masses, momentum_vars, D0, eps_order, Lambda, N)"
   ]
  },
  {
   "cell_type": "markdown",
   "id": "0c7820e0",
   "metadata": {},
   "source": [
    "* $\\epsilon$-expansion"
   ]
  },
  {
   "cell_type": "code",
   "execution_count": 6,
   "id": "22d9d51b",
   "metadata": {},
   "outputs": [
    {
     "data": {
      "text/latex": [
       "$\\displaystyle 5.342599717 \\cdot 10^{30} i - 1.75376638 \\cdot 10^{29} + eps \\left(-7.377962053 \\cdot 10^{30} - 8.301247732 \\cdot 10^{31} i\\right) + eps^{2} \\cdot \\left(1.348736066 \\cdot 10^{32} + 6.530545453 \\cdot 10^{32} i\\right) + eps^{3} \\left(-1.122175138 \\cdot 10^{33} - 3.484183663 \\cdot 10^{33} i\\right) + eps^{4} \\cdot \\left(6.223712712 \\cdot 10^{33} + 1.425346088 \\cdot 10^{34} i\\right) + O\\left(eps^{5}\\right)$"
      ],
      "text/plain": [
       "5.342599717e+30*I - 1.75376638e+29 + eps*(-7.377962053e+30 - 8.301247732e+31*I) + eps**2*(1.348736066e+32 + 6.530545453e+32*I) + eps**3*(-1.122175138e+33 - 3.484183663e+33*I) + eps**4*(6.223712712e+33 + 1.425346088e+34*I) + O(eps**5)"
      ]
     },
     "execution_count": 6,
     "metadata": {},
     "output_type": "execute_result"
    }
   ],
   "source": [
    "eps_expansion(trop_res, graph, D0)"
   ]
  }
 ],
 "metadata": {
  "kernelspec": {
   "display_name": "Python 3 (ipykernel)",
   "language": "python",
   "name": "python3"
  },
  "language_info": {
   "codemirror_mode": {
    "name": "ipython",
    "version": 3
   },
   "file_extension": ".py",
   "mimetype": "text/x-python",
   "name": "python",
   "nbconvert_exporter": "python",
   "pygments_lexer": "ipython3",
   "version": "3.10.9"
  }
 },
 "nbformat": 4,
 "nbformat_minor": 5
}
