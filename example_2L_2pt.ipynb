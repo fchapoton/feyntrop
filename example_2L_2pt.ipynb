{
 "cells": [
  {
   "cell_type": "markdown",
   "id": "3c51c003",
   "metadata": {},
   "source": [
    "# $\\texttt{feyntrop}$ example: 2L_2pt diagram\n",
    "* for a detailed turorial, please open $\\texttt{tutorial}$\\_$\\texttt{2L}$\\_$\\texttt{3pt}$.$\\texttt{ipynb}$."
   ]
  },
  {
   "cell_type": "code",
   "execution_count": 1,
   "id": "0bf75453",
   "metadata": {},
   "outputs": [],
   "source": [
    "from py_feyntrop import *"
   ]
  },
  {
   "cell_type": "markdown",
   "id": "d0345fd7",
   "metadata": {},
   "source": [
    "* --(|)-- diagram"
   ]
  },
  {
   "cell_type": "code",
   "execution_count": 2,
   "id": "bbfbf7a2",
   "metadata": {},
   "outputs": [],
   "source": [
    "graph = [((0,2), 1), ((0,3), 1), ((1,2), 1), ((1,3), 1), ((2,3), 1)]"
   ]
  },
  {
   "cell_type": "markdown",
   "id": "30354ad9",
   "metadata": {},
   "source": [
    "* kinematics (no Mandelstam variables in this case)"
   ]
  },
  {
   "cell_type": "code",
   "execution_count": 3,
   "id": "2ab889f0",
   "metadata": {},
   "outputs": [],
   "source": [
    "masses_sqr = [0.1, 0.2, 0.3, 0.4, 0.5]\n",
    "\n",
    "momentum_vars = [(p_sqr[0], 3)]"
   ]
  },
  {
   "cell_type": "markdown",
   "id": "4a34e4d1",
   "metadata": {},
   "source": [
    "* additional settings"
   ]
  },
  {
   "cell_type": "code",
   "execution_count": 4,
   "id": "ea857eb8",
   "metadata": {},
   "outputs": [],
   "source": [
    "D0 = 4\n",
    "eps_order = 5\n",
    "Lambda = 1.7\n",
    "N = int(1e7)"
   ]
  },
  {
   "cell_type": "markdown",
   "id": "f1238414",
   "metadata": {},
   "source": [
    "* tropical integration"
   ]
  },
  {
   "cell_type": "code",
   "execution_count": 5,
   "id": "5b1bb3a5",
   "metadata": {},
   "outputs": [
    {
     "name": "stdout",
     "output_type": "stream",
     "text": [
      "Prefactor: gamma(2*eps + 1).\n",
      "Analytic continuation: activated.\n",
      "Generalized permutahedron property: fulfilled.\n",
      "Started integrating using 8 threads and N = 1e+07 points.\n",
      "Finished in 5.16477 seconds = 0.00143466 hours.\n",
      "\n",
      "-- eps^0: [-2.2916 +/- 0.0050]  +  i * [3.0798  +/- 0.0050]\n",
      "-- eps^1: [-15.229 +/- 0.017 ]  +  i * [-5.929  +/- 0.018 ]\n",
      "-- eps^2: [ 5.169  +/- 0.042 ]  +  i * [-34.770 +/- 0.042 ]\n",
      "-- eps^3: [49.469  +/- 0.081 ]  +  i * [-2.743  +/- 0.090 ]\n",
      "-- eps^4: [ 12.42  +/-  0.14 ]  +  i * [ 49.42  +/-  0.17 ]\n"
     ]
    }
   ],
   "source": [
    "trop_res, Itr = tropical_integration(graph, masses_sqr, momentum_vars, D0, eps_order, Lambda, N)"
   ]
  },
  {
   "cell_type": "markdown",
   "id": "0c7820e0",
   "metadata": {},
   "source": [
    "* $\\epsilon$-expansion"
   ]
  },
  {
   "cell_type": "code",
   "execution_count": 6,
   "id": "22d9d51b",
   "metadata": {},
   "outputs": [
    {
     "data": {
      "text/latex": [
       "$\\displaystyle 3.079773778 i - 2.291635311 + eps \\left(-12.58351122 - 9.483983199 i\\right) + eps^{2} \\left(13.68394515 - 15.74179536 i\\right) + eps^{3} \\left(-0.1108393579 - 8.416364896 i\\right) + eps^{4} \\left(50.32202836 + 6.447901343 i\\right) + O\\left(eps^{5}\\right)$"
      ],
      "text/plain": [
       "3.079773778*I - 2.291635311 + eps*(-12.58351122 - 9.483983199*I) + eps**2*(13.68394515 - 15.74179536*I) + eps**3*(-0.1108393579 - 8.416364896*I) + eps**4*(50.32202836 + 6.447901343*I) + O(eps**5)"
      ]
     },
     "execution_count": 6,
     "metadata": {},
     "output_type": "execute_result"
    }
   ],
   "source": [
    "eps_expansion(trop_res, graph, D0)"
   ]
  }
 ],
 "metadata": {
  "kernelspec": {
   "display_name": "Python 3 (ipykernel)",
   "language": "python",
   "name": "python3"
  },
  "language_info": {
   "codemirror_mode": {
    "name": "ipython",
    "version": 3
   },
   "file_extension": ".py",
   "mimetype": "text/x-python",
   "name": "python",
   "nbconvert_exporter": "python",
   "pygments_lexer": "ipython3",
   "version": "3.10.6"
  }
 },
 "nbformat": 4,
 "nbformat_minor": 5
}
