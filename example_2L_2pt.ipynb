{
 "cells": [
  {
   "cell_type": "markdown",
   "id": "3c51c003",
   "metadata": {},
   "source": [
    "# $\\texttt{feyntrop}$ example: 2L_2pt diagram\n",
    "* for a detailed turorial, please open $\\texttt{tutorial}$\\_$\\texttt{2L}$\\_$\\texttt{3pt}$.$\\texttt{ipynb}$."
   ]
  },
  {
   "cell_type": "code",
   "execution_count": 1,
   "id": "0bf75453",
   "metadata": {},
   "outputs": [],
   "source": [
    "from pytrop import *"
   ]
  },
  {
   "cell_type": "markdown",
   "id": "d0345fd7",
   "metadata": {},
   "source": [
    "* --(|)-- diagram"
   ]
  },
  {
   "cell_type": "code",
   "execution_count": 2,
   "id": "bbfbf7a2",
   "metadata": {},
   "outputs": [],
   "source": [
    "graph = [((0,2), 1), ((0,3), 1), ((1,2), 1), ((1,3), 1), ((2,3), 1)]"
   ]
  },
  {
   "cell_type": "markdown",
   "id": "30354ad9",
   "metadata": {},
   "source": [
    "* kinematics (no Mandelstam variables in this case)"
   ]
  },
  {
   "cell_type": "code",
   "execution_count": 3,
   "id": "2ab889f0",
   "metadata": {},
   "outputs": [],
   "source": [
    "masses = [0.1, 0.2, 0.3, 0.4, 0.5]\n",
    "momentum_vars = [(sp[0,0], 3)]"
   ]
  },
  {
   "cell_type": "markdown",
   "id": "4a34e4d1",
   "metadata": {},
   "source": [
    "* additional seetings"
   ]
  },
  {
   "cell_type": "code",
   "execution_count": 4,
   "id": "ea857eb8",
   "metadata": {},
   "outputs": [],
   "source": [
    "D0 = 4\n",
    "eps_order = 5\n",
    "Lambda = 1.7\n",
    "N = int(1e7)"
   ]
  },
  {
   "cell_type": "markdown",
   "id": "f1238414",
   "metadata": {},
   "source": [
    "* tropical integration"
   ]
  },
  {
   "cell_type": "code",
   "execution_count": 5,
   "id": "5b1bb3a5",
   "metadata": {},
   "outputs": [
    {
     "name": "stdout",
     "output_type": "stream",
     "text": [
      "\n",
      "prefactor:\n",
      "gamma(2*eps + 1)\n",
      "\n",
      "Analytic continuation is activated\n",
      "Using 768 bytes of RAM \n",
      "The generalized permutahedron property is fulfilled.\n",
      "Start integrating using 8 threads and N = 1e+07 points\n",
      "Finished sampling 1e+07 points in 8.65679 seconds \n",
      "Average speed: 1.15516e+06 samples / second \n",
      "\n",
      "eps^0 : [(-1) * 2.295415 +/- 0.001397] + I * [(+1) * 3.086625 +/- 0.001212]\n",
      "eps^1 : [(-1) * 15.241262 +/- 0.005631] + I * [(-1) * 5.944241 +/- 0.005009]\n",
      "eps^2 : [(+1) * 5.163309 +/- 0.013447] + I * [(-1) * 34.771424 +/- 0.015020]\n",
      "eps^3 : [(+1) * 49.524637 +/- 0.026979] + I * [(-1) * 2.825919 +/- 0.030417]\n",
      "eps^4 : [(+1) * 12.552460 +/- 0.049106] + I * [(+1) * 49.544599 +/- 0.044645]\n"
     ]
    }
   ],
   "source": [
    "trop_res, Itr = tropical_integration(graph, masses, momentum_vars, D0, eps_order, Lambda, N)"
   ]
  },
  {
   "cell_type": "markdown",
   "id": "0c7820e0",
   "metadata": {},
   "source": [
    "* $\\epsilon$-expansion"
   ]
  },
  {
   "cell_type": "code",
   "execution_count": 6,
   "id": "22d9d51b",
   "metadata": {},
   "outputs": [
    {
     "data": {
      "text/latex": [
       "$\\displaystyle 3.086625144 i - 2.295415394 + eps \\left(-12.59136238 - 9.507538056 i\\right) + eps^{2} \\left(13.67712192 - 15.69782497 i\\right) + eps^{3} \\left(-0.06956336682 - 8.609829617 i\\right) + eps^{4} \\left(50.40030487 + 6.88120986 i\\right) + O\\left(eps^{5}\\right)$"
      ],
      "text/plain": [
       "3.086625144*I - 2.295415394 + eps*(-12.59136238 - 9.507538056*I) + eps**2*(13.67712192 - 15.69782497*I) + eps**3*(-0.06956336682 - 8.609829617*I) + eps**4*(50.40030487 + 6.88120986*I) + O(eps**5)"
      ]
     },
     "execution_count": 6,
     "metadata": {},
     "output_type": "execute_result"
    }
   ],
   "source": [
    "eps_expansion(trop_res, graph, D0)"
   ]
  }
 ],
 "metadata": {
  "kernelspec": {
   "display_name": "Python 3 (ipykernel)",
   "language": "python",
   "name": "python3"
  },
  "language_info": {
   "codemirror_mode": {
    "name": "ipython",
    "version": 3
   },
   "file_extension": ".py",
   "mimetype": "text/x-python",
   "name": "python",
   "nbconvert_exporter": "python",
   "pygments_lexer": "ipython3",
   "version": "3.10.6"
  }
 },
 "nbformat": 4,
 "nbformat_minor": 5
}
